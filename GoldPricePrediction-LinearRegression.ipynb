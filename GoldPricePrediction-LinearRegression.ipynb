{
  "nbformat": 4,
  "nbformat_minor": 0,
  "metadata": {
    "colab": {
      "name": "GoldPricePrediction-LinearRegression.ipynb",
      "provenance": [],
      "authorship_tag": "ABX9TyN20For2QMDy5+IQQCz8gTl",
      "include_colab_link": true
    },
    "kernelspec": {
      "name": "python3",
      "display_name": "Python 3"
    },
    "accelerator": "GPU"
  },
  "cells": [
    {
      "cell_type": "markdown",
      "metadata": {
        "id": "view-in-github",
        "colab_type": "text"
      },
      "source": [
        "<a href=\"https://colab.research.google.com/github/yahdiindrawan/GoldPricePrediction-LinearRegression/blob/main/GoldPricePrediction-LinearRegression.ipynb\" target=\"_parent\"><img src=\"https://colab.research.google.com/assets/colab-badge.svg\" alt=\"Open In Colab\"/></a>"
      ]
    },
    {
      "cell_type": "code",
      "metadata": {
        "id": "2QKLZxrfvOEZ"
      },
      "source": [
        "import pandas as pd\n",
        "import matplotlib.pyplot as plt\n",
        "import numpy as np\n",
        "import seaborn as sns\n",
        "from sklearn.linear_model import LinearRegression\n",
        "from sklearn.model_selection import train_test_split\n",
        "from sklearn import datasets"
      ],
      "execution_count": 1,
      "outputs": []
    },
    {
      "cell_type": "code",
      "metadata": {
        "id": "m2fCEewQzPqw",
        "outputId": "ec734f70-c76b-4e98-c4de-5f3e0a833ea5",
        "colab": {
          "base_uri": "https://localhost:8080/",
          "height": 419
        }
      },
      "source": [
        "df = pd.read_csv('dataset.csv', usecols=['Tanggal','HargaJual','KursJual','TingkatInflasi','HargaMinyak'])\n",
        "tanggal = pd.DataFrame(df.Tanggal.astype(str).str.split('-').tolist(),columns=\"year month date\".split())\n",
        "data = {\n",
        "    'Tahun' : tanggal['year'],\n",
        "    'Bulan' : tanggal['month'],\n",
        "    'Tanggal' : tanggal['date'],\n",
        "    'HargaJual' : df['HargaJual'],\n",
        "    'KursJual' : df['KursJual'],\n",
        "    'TingkatInflasi' : df['TingkatInflasi'],\n",
        "    'HargaMinyak' : df['HargaMinyak']\n",
        "}\n",
        "data = pd.DataFrame(data)\n",
        "data"
      ],
      "execution_count": 2,
      "outputs": [
        {
          "output_type": "execute_result",
          "data": {
            "text/html": [
              "<div>\n",
              "<style scoped>\n",
              "    .dataframe tbody tr th:only-of-type {\n",
              "        vertical-align: middle;\n",
              "    }\n",
              "\n",
              "    .dataframe tbody tr th {\n",
              "        vertical-align: top;\n",
              "    }\n",
              "\n",
              "    .dataframe thead th {\n",
              "        text-align: right;\n",
              "    }\n",
              "</style>\n",
              "<table border=\"1\" class=\"dataframe\">\n",
              "  <thead>\n",
              "    <tr style=\"text-align: right;\">\n",
              "      <th></th>\n",
              "      <th>Tahun</th>\n",
              "      <th>Bulan</th>\n",
              "      <th>Tanggal</th>\n",
              "      <th>HargaJual</th>\n",
              "      <th>KursJual</th>\n",
              "      <th>TingkatInflasi</th>\n",
              "      <th>HargaMinyak</th>\n",
              "    </tr>\n",
              "  </thead>\n",
              "  <tbody>\n",
              "    <tr>\n",
              "      <th>0</th>\n",
              "      <td>2019</td>\n",
              "      <td>12</td>\n",
              "      <td>30</td>\n",
              "      <td>678000.0</td>\n",
              "      <td>14014.73</td>\n",
              "      <td>2.72</td>\n",
              "      <td>61.68</td>\n",
              "    </tr>\n",
              "    <tr>\n",
              "      <th>1</th>\n",
              "      <td>2019</td>\n",
              "      <td>12</td>\n",
              "      <td>27</td>\n",
              "      <td>678000.0</td>\n",
              "      <td>14025.78</td>\n",
              "      <td>2.72</td>\n",
              "      <td>61.72</td>\n",
              "    </tr>\n",
              "    <tr>\n",
              "      <th>2</th>\n",
              "      <td>2019</td>\n",
              "      <td>12</td>\n",
              "      <td>26</td>\n",
              "      <td>673000.0</td>\n",
              "      <td>14051.91</td>\n",
              "      <td>2.72</td>\n",
              "      <td>61.68</td>\n",
              "    </tr>\n",
              "    <tr>\n",
              "      <th>3</th>\n",
              "      <td>2019</td>\n",
              "      <td>12</td>\n",
              "      <td>23</td>\n",
              "      <td>665000.0</td>\n",
              "      <td>14047.89</td>\n",
              "      <td>2.72</td>\n",
              "      <td>60.52</td>\n",
              "    </tr>\n",
              "    <tr>\n",
              "      <th>4</th>\n",
              "      <td>2019</td>\n",
              "      <td>12</td>\n",
              "      <td>21</td>\n",
              "      <td>665000.0</td>\n",
              "      <td>14062.97</td>\n",
              "      <td>2.72</td>\n",
              "      <td>60.44</td>\n",
              "    </tr>\n",
              "    <tr>\n",
              "      <th>...</th>\n",
              "      <td>...</td>\n",
              "      <td>...</td>\n",
              "      <td>...</td>\n",
              "      <td>...</td>\n",
              "      <td>...</td>\n",
              "      <td>...</td>\n",
              "      <td>...</td>\n",
              "    </tr>\n",
              "    <tr>\n",
              "      <th>70</th>\n",
              "      <td>2019</td>\n",
              "      <td>10</td>\n",
              "      <td>05</td>\n",
              "      <td>684000.0</td>\n",
              "      <td>14206.00</td>\n",
              "      <td>3.13</td>\n",
              "      <td>52.81</td>\n",
              "    </tr>\n",
              "    <tr>\n",
              "      <th>71</th>\n",
              "      <td>2019</td>\n",
              "      <td>10</td>\n",
              "      <td>04</td>\n",
              "      <td>688000.0</td>\n",
              "      <td>14206.00</td>\n",
              "      <td>3.13</td>\n",
              "      <td>52.81</td>\n",
              "    </tr>\n",
              "    <tr>\n",
              "      <th>72</th>\n",
              "      <td>2019</td>\n",
              "      <td>10</td>\n",
              "      <td>03</td>\n",
              "      <td>685000.0</td>\n",
              "      <td>14264.00</td>\n",
              "      <td>3.13</td>\n",
              "      <td>52.45</td>\n",
              "    </tr>\n",
              "    <tr>\n",
              "      <th>73</th>\n",
              "      <td>2019</td>\n",
              "      <td>10</td>\n",
              "      <td>02</td>\n",
              "      <td>676000.0</td>\n",
              "      <td>14278.00</td>\n",
              "      <td>3.13</td>\n",
              "      <td>52.64</td>\n",
              "    </tr>\n",
              "    <tr>\n",
              "      <th>74</th>\n",
              "      <td>2019</td>\n",
              "      <td>10</td>\n",
              "      <td>01</td>\n",
              "      <td>672000.0</td>\n",
              "      <td>14267.00</td>\n",
              "      <td>3.13</td>\n",
              "      <td>53.62</td>\n",
              "    </tr>\n",
              "  </tbody>\n",
              "</table>\n",
              "<p>75 rows × 7 columns</p>\n",
              "</div>"
            ],
            "text/plain": [
              "   Tahun Bulan Tanggal  HargaJual  KursJual  TingkatInflasi  HargaMinyak\n",
              "0   2019    12      30   678000.0  14014.73            2.72        61.68\n",
              "1   2019    12      27   678000.0  14025.78            2.72        61.72\n",
              "2   2019    12      26   673000.0  14051.91            2.72        61.68\n",
              "3   2019    12      23   665000.0  14047.89            2.72        60.52\n",
              "4   2019    12      21   665000.0  14062.97            2.72        60.44\n",
              "..   ...   ...     ...        ...       ...             ...          ...\n",
              "70  2019    10      05   684000.0  14206.00            3.13        52.81\n",
              "71  2019    10      04   688000.0  14206.00            3.13        52.81\n",
              "72  2019    10      03   685000.0  14264.00            3.13        52.45\n",
              "73  2019    10      02   676000.0  14278.00            3.13        52.64\n",
              "74  2019    10      01   672000.0  14267.00            3.13        53.62\n",
              "\n",
              "[75 rows x 7 columns]"
            ]
          },
          "metadata": {
            "tags": []
          },
          "execution_count": 2
        }
      ]
    },
    {
      "cell_type": "code",
      "metadata": {
        "id": "RNROr2WX2_fc"
      },
      "source": [
        "from sklearn.preprocessing import StandardScaler\n",
        "def tranformasi_data(x_all, x_tr):\n",
        "    scaler = StandardScaler()\n",
        "    scaler.fit(x_all)\n",
        "    x_all_tr = scaler.transform(x_tr)\n",
        "    return x_all_tr"
      ],
      "execution_count": 3,
      "outputs": []
    },
    {
      "cell_type": "code",
      "metadata": {
        "id": "Ouf6ki8w94uz",
        "outputId": "9d993ea7-fdd5-4050-c9c0-5fdf42343655",
        "colab": {
          "base_uri": "https://localhost:8080/"
        }
      },
      "source": [
        "x_all = data.drop(columns='HargaJual')\n",
        "print(x_all.head())\n",
        "y_all = data['HargaJual']\n",
        "print(y_all.head())"
      ],
      "execution_count": 4,
      "outputs": [
        {
          "output_type": "stream",
          "text": [
            "  Tahun Bulan Tanggal  KursJual  TingkatInflasi  HargaMinyak\n",
            "0  2019    12      30  14014.73            2.72        61.68\n",
            "1  2019    12      27  14025.78            2.72        61.72\n",
            "2  2019    12      26  14051.91            2.72        61.68\n",
            "3  2019    12      23  14047.89            2.72        60.52\n",
            "4  2019    12      21  14062.97            2.72        60.44\n",
            "0    678000.0\n",
            "1    678000.0\n",
            "2    673000.0\n",
            "3    665000.0\n",
            "4    665000.0\n",
            "Name: HargaJual, dtype: float64\n"
          ],
          "name": "stdout"
        }
      ]
    },
    {
      "cell_type": "code",
      "metadata": {
        "id": "RLhuREECY0c0",
        "outputId": "7f7bb760-24ad-46ff-b415-298170f74187",
        "colab": {
          "base_uri": "https://localhost:8080/"
        }
      },
      "source": [
        "x_all_tr = tranformasi_data(x_all, x_all)\n",
        "x_all_tr"
      ],
      "execution_count": 5,
      "outputs": [
        {
          "output_type": "execute_result",
          "data": {
            "text/plain": [
              "array([[ 0.        ,  1.32416942,  1.68191162, -1.97899277, -1.46654591,\n",
              "         1.89096097],\n",
              "       [ 0.        ,  1.32416942,  1.33662867, -1.80805014, -1.46654591,\n",
              "         1.9063388 ],\n",
              "       [ 0.        ,  1.32416942,  1.22153435, -1.4038211 , -1.46654591,\n",
              "         1.89096097],\n",
              "       [ 0.        ,  1.32416942,  0.8762514 , -1.46601018, -1.46654591,\n",
              "         1.44500379],\n",
              "       [ 0.        ,  1.32416942,  0.64606277, -1.23272377, -1.46654591,\n",
              "         1.41424812],\n",
              "       [ 0.        ,  1.32416942,  0.53096845, -1.23272377, -1.46654591,\n",
              "         1.41424812],\n",
              "       [ 0.        ,  1.32416942,  0.41587413, -1.38819648, -1.46654591,\n",
              "         1.71411588],\n",
              "       [ 0.        ,  1.32416942,  0.30077982, -1.01506198, -1.46654591,\n",
              "         1.60262658],\n",
              "       [ 0.        ,  1.32416942,  0.1856855 , -0.84411935, -1.46654591,\n",
              "         1.60647104],\n",
              "       [ 0.        ,  1.32416942,  0.07059118, -1.4038211 , -1.46654591,\n",
              "         1.32582558],\n",
              "       [ 0.        ,  1.32416942, -0.15959745, -1.4038211 , -1.46654591,\n",
              "         1.27200316],\n",
              "       [ 0.        ,  1.32416942, -0.27469177, -1.4038211 , -1.46654591,\n",
              "         1.27200316],\n",
              "       [ 0.        ,  1.32416942, -0.38978609, -0.47098485, -1.46654591,\n",
              "         0.92984635],\n",
              "       [ 0.        ,  1.32416942, -0.50488041, -0.7352111 , -1.46654591,\n",
              "         0.7683791 ],\n",
              "       [ 0.        ,  1.32416942, -0.61997472, -1.06178114, -1.46654591,\n",
              "         0.9529131 ],\n",
              "       [ 0.        ,  1.32416942, -0.73506904, -0.79740019, -1.46654591,\n",
              "         0.86833502],\n",
              "       [ 0.        ,  1.32416942, -0.96525767, -0.54864385, -1.46654591,\n",
              "         0.93753527],\n",
              "       [ 0.        ,  1.32416942, -1.08035199, -0.54864385, -1.46654591,\n",
              "         0.93753527],\n",
              "       [ 0.        ,  1.32416942, -1.19544631,  0.33747324, -1.46654591,\n",
              "         0.64151197],\n",
              "       [ 0.        ,  1.32416942, -1.31054063,  0.81951598, -1.46654591,\n",
              "         0.64151197],\n",
              "       [ 0.        ,  1.32416942, -1.42563494,  0.89717499, -1.46654591,\n",
              "        -0.25424685],\n",
              "       [ 0.        ,  1.32416942, -1.54072926,  0.77279682, -1.46654591,\n",
              "        -0.30806927],\n",
              "       [ 0.        ,  0.08276059,  1.68191162,  0.46185141,  0.21179001,\n",
              "        -0.61178149],\n",
              "       [ 0.        ,  0.08276059,  1.56681731,  0.46185141,  0.21179001,\n",
              "        -0.61178149],\n",
              "       [ 0.        ,  0.08276059,  1.45172299,  0.41528694,  0.21179001,\n",
              "         0.50695592],\n",
              "       [ 0.        ,  0.08276059,  1.33662867,  0.36856778,  0.21179001,\n",
              "         0.5184893 ],\n",
              "       [ 0.        ,  0.08276059,  1.22153435,  0.13543607,  0.21179001,\n",
              "         0.63382305],\n",
              "       [ 0.        ,  0.08276059,  1.10644004,  0.29090878,  0.21179001,\n",
              "         0.48004471],\n",
              "       [ 0.        ,  0.08276059,  0.8762514 ,  0.43075686,  0.21179001,\n",
              "         0.38777771],\n",
              "       [ 0.        ,  0.08276059,  0.76115708,  0.43075686,  0.21179001,\n",
              "         0.38777771],\n",
              "       [ 0.        ,  0.08276059,  0.64606277,  0.61732411,  0.21179001,\n",
              "         0.69917885],\n",
              "       [ 0.        ,  0.08276059,  0.53096845,  0.3841924 ,  0.21179001,\n",
              "         0.13404345],\n",
              "       [ 0.        ,  0.08276059,  0.41587413,  0.29090878,  0.21179001,\n",
              "        -0.59640366],\n",
              "       [ 0.        ,  0.08276059,  0.30077982,  0.04215244,  0.21179001,\n",
              "         0.1109767 ],\n",
              "       [ 0.        ,  0.08276059,  0.07059118, -0.05113118,  0.21179001,\n",
              "         0.36855542],\n",
              "       [ 0.        ,  0.08276059, -0.04450314, -0.05113118,  0.21179001,\n",
              "         0.36855542],\n",
              "       [ 0.        ,  0.08276059, -0.15959745,  0.39966232,  0.21179001,\n",
              "         0.00333186],\n",
              "       [ 0.        ,  0.08276059, -0.27469177,  0.15090599,  0.21179001,\n",
              "         0.13788791],\n",
              "       [ 0.        ,  0.08276059, -0.38978609, -0.20660389,  0.21179001,\n",
              "         0.01486524],\n",
              "       [ 0.        ,  0.08276059, -0.50488041, -0.50207939,  0.21179001,\n",
              "         0.03793199],\n",
              "       [ 0.        ,  0.08276059, -0.73506904, -0.81302481,  0.21179001,\n",
              "         0.18402141],\n",
              "       [ 0.        ,  0.08276059, -0.85016336, -0.81302481,  0.21179001,\n",
              "         0.18402141],\n",
              "       [ 0.        ,  0.08276059, -0.96525767, -0.50207939,  0.21179001,\n",
              "         0.14942129],\n",
              "       [ 0.        ,  0.08276059, -1.08035199, -1.24834839,  0.21179001,\n",
              "        -0.15813539],\n",
              "       [ 0.        ,  0.08276059, -1.19544631, -0.64192748,  0.21179001,\n",
              "         0.18017695],\n",
              "       [ 0.        ,  0.08276059, -1.31054063, -1.09287568,  0.21179001,\n",
              "        -0.08509068],\n",
              "       [ 0.        ,  0.08276059, -1.54072926, -0.09785035,  0.21179001,\n",
              "        -0.21580227],\n",
              "       [ 0.        ,  0.08276059, -1.65582358, -0.09785035,  0.21179001,\n",
              "        -0.21580227],\n",
              "       [ 0.        , -1.15864824,  1.79700594, -0.99959206,  0.9910174 ,\n",
              "        -0.99238288],\n",
              "       [ 0.        , -1.15864824,  1.68191162, -0.43989031,  0.9910174 ,\n",
              "        -0.65407053],\n",
              "       [ 0.        , -1.15864824,  1.56681731, -0.68864664,  0.9910174 ,\n",
              "        -0.46953653],\n",
              "       [ 0.        , -1.15864824,  1.45172299, -0.76646034,  0.9910174 ,\n",
              "        -0.36573615],\n",
              "       [ 0.        , -1.15864824,  1.22153435, -0.12894489,  0.9910174 ,\n",
              "        -0.03895718],\n",
              "       [ 0.        , -1.15864824,  1.10644004, -0.12894489,  0.9910174 ,\n",
              "        -0.03895718],\n",
              "       [ 0.        , -1.15864824,  0.99134572, -1.18615931,  0.9910174 ,\n",
              "        -0.20426889],\n",
              "       [ 0.        , -1.15864824,  0.8762514 , -0.33113676,  0.9910174 ,\n",
              "        -0.30422481],\n",
              "       [ 0.        , -1.15864824,  0.76115708, -0.22222851,  0.9910174 ,\n",
              "        -1.00007179],\n",
              "       [ 0.        , -1.15864824,  0.64606277,  0.92826953,  0.9910174 ,\n",
              "        -1.32685076],\n",
              "       [ 0.        , -1.15864824,  0.41587413,  1.0526477 ,  0.9910174 ,\n",
              "        -1.14616122],\n",
              "       [ 0.        , -1.15864824,  0.30077982,  1.0526477 ,  0.9910174 ,\n",
              "        -1.14616122],\n",
              "       [ 0.        , -1.15864824,  0.1856855 ,  1.55016037,  0.9910174 ,\n",
              "        -1.08849434],\n",
              "       [ 0.        , -1.15864824,  0.07059118,  1.78329208,  0.9910174 ,\n",
              "        -1.30762847],\n",
              "       [ 0.        , -1.15864824, -0.04450314,  1.0526477 ,  0.9910174 ,\n",
              "        -1.51907369],\n",
              "       [ 0.        , -1.15864824, -0.15959745,  0.83498591,  0.9910174 ,\n",
              "        -1.21920593],\n",
              "       [ 0.        , -1.15864824, -0.38978609,  1.04181875,  0.9910174 ,\n",
              "        -0.79247104],\n",
              "       [ 0.        , -1.15864824, -0.50488041,  1.04181875,  0.9910174 ,\n",
              "        -0.79247104],\n",
              "       [ 0.        , -1.15864824, -0.61997472,  1.32027734,  0.9910174 ,\n",
              "        -1.23458376],\n",
              "       [ 0.        , -1.15864824, -0.73506904,  1.70702537,  0.9910174 ,\n",
              "        -1.60365177],\n",
              "       [ 0.        , -1.15864824, -0.85016336,  1.52138631,  0.9910174 ,\n",
              "        -1.58827394],\n",
              "       [ 0.        , -1.15864824, -0.96525767,  1.30480741,  0.9910174 ,\n",
              "        -1.54214044],\n",
              "       [ 0.        , -1.15864824, -1.19544631,  0.97993907,  0.9910174 ,\n",
              "        -1.51907369],\n",
              "       [ 0.        , -1.15864824, -1.31054063,  0.97993907,  0.9910174 ,\n",
              "        -1.51907369],\n",
              "       [ 0.        , -1.15864824, -1.42563494,  1.8771945 ,  0.9910174 ,\n",
              "        -1.65747419],\n",
              "       [ 0.        , -1.15864824, -1.54072926,  2.0937734 ,  0.9910174 ,\n",
              "        -1.58442948],\n",
              "       [ 0.        , -1.15864824, -1.65582358,  1.92360427,  0.9910174 ,\n",
              "        -1.20767255]])"
            ]
          },
          "metadata": {
            "tags": []
          },
          "execution_count": 5
        }
      ]
    },
    {
      "cell_type": "code",
      "metadata": {
        "id": "TUYq3Aw4aWWV",
        "outputId": "b59159b6-a968-4e22-fa73-b4186ccc6457",
        "colab": {
          "base_uri": "https://localhost:8080/"
        }
      },
      "source": [
        "def model(x_all_tr, y_all):\n",
        "    lin_reg = LinearRegression()\n",
        "    lin_reg.fit(x_all_tr, y_all)\n",
        "    y_pred = lin_reg.predict(x_all_tr)\n",
        "    return y_pred, lin_reg\n",
        "y_pred, lin_reg = model(x_all_tr, y_all)\n",
        "\n",
        "lin_reg"
      ],
      "execution_count": 6,
      "outputs": [
        {
          "output_type": "execute_result",
          "data": {
            "text/plain": [
              "LinearRegression(copy_X=True, fit_intercept=True, n_jobs=None, normalize=False)"
            ]
          },
          "metadata": {
            "tags": []
          },
          "execution_count": 6
        }
      ]
    },
    {
      "cell_type": "code",
      "metadata": {
        "id": "CnZ4tMaiavEp",
        "outputId": "b30b2193-70f3-4d9c-9691-a5f678bf4c61",
        "colab": {
          "base_uri": "https://localhost:8080/",
          "height": 295
        }
      },
      "source": [
        "import matplotlib.dates as mdates\n",
        "def plot(y_pred, data_all):\n",
        "    fig, ax1 = plt.subplots()\n",
        "    plt.plot(data_all.Tanggal, data_all.HargaJual)\n",
        "    # monthyearFmt = mdates.DateFormatter('%Y-%m')\n",
        "    # ax1.xaxis.set_major_formatter(monthyearFmt)\n",
        "    # # _ = plt.xticks(rotation=90)\n",
        "    plt.plot(data_all.Tanggal, y_pred, c='r', label='Linear Regression')\n",
        "    plt.scatter(data_all.Tanggal, data_all.HargaJual, c='b', label='Data')\n",
        "    plt.xlabel('Date')\n",
        "    plt.ylabel('Harga Jual')\n",
        "    plt.title('Linear Regression')\n",
        "    plt.legend()\n",
        "    plt.show()\n",
        "plot(y_pred, df)"
      ],
      "execution_count": 7,
      "outputs": [
        {
          "output_type": "display_data",
          "data": {
            "image/png": "[encoded data removed]",
            "text/plain": [
              "<Figure size 432x288 with 1 Axes>"
            ]
          },
          "metadata": {
            "tags": [],
            "needs_background": "light"
          }
        }
      ]
    },
    {
      "cell_type": "code",
      "metadata": {
        "id": "8f5sUEL1a2YK",
        "outputId": "7efa9554-2fb9-4b44-9cea-9eba62baa20f",
        "colab": {
          "base_uri": "https://localhost:8080/"
        }
      },
      "source": [
        "from sklearn.metrics import mean_absolute_error, mean_squared_error, r2_score\n",
        "print('MSE: {0:.3f}'.format(mean_squared_error(y_all, y_pred)))\n",
        "print('MAE: {0:.3f}'.format(mean_absolute_error(y_all, y_pred)))\n",
        "print('R^2: {0:.3f}'.format(r2_score(y_all, y_pred)))"
      ],
      "execution_count": 8,
      "outputs": [
        {
          "output_type": "stream",
          "text": [
            "MSE: 34953682.306\n",
            "MAE: 4409.157\n",
            "R^2: 0.545\n"
          ],
          "name": "stdout"
        }
      ]
    },
    {
      "cell_type": "code",
      "metadata": {
        "id": "nX_uSwzZiQjB"
      },
      "source": [
        ""
      ],
      "execution_count": null,
      "outputs": []
    }
  ]
}